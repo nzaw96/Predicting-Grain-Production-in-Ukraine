{
  "nbformat": 4,
  "nbformat_minor": 0,
  "metadata": {
    "colab": {
      "provenance": [],
      "collapsed_sections": [],
      "authorship_tag": "ABX9TyPrM8lRgMeSKOdYwGJ7KFDZ",
      "include_colab_link": true
    },
    "kernelspec": {
      "name": "python3",
      "display_name": "Python 3"
    },
    "language_info": {
      "name": "python"
    }
  },
  "cells": [
    {
      "cell_type": "markdown",
      "metadata": {
        "id": "view-in-github",
        "colab_type": "text"
      },
      "source": [
        "<a href=\"https://colab.research.google.com/github/nzaw96/Predicting-Grain-Production-in-Ukraine/blob/main/Ukraine_hackathon_MLmodels.ipynb\" target=\"_parent\"><img src=\"https://colab.research.google.com/assets/colab-badge.svg\" alt=\"Open In Colab\"/></a>"
      ]
    },
    {
      "cell_type": "code",
      "execution_count": null,
      "metadata": {
        "id": "dDrtxZ1PvSdB"
      },
      "outputs": [],
      "source": [
        "import numpy as np\n",
        "import pandas as pd\n",
        "import matplotlib.pyplot as plt\n",
        "import seaborn as sns\n",
        "import re\n",
        "from scipy import stats\n",
        "from sklearn.preprocessing import StandardScaler\n",
        "from sklearn.preprocessing import MinMaxScaler\n",
        "from sklearn.linear_model import LinearRegression\n",
        "from sklearn.metrics import r2_score\n",
        "from sklearn.linear_model import Ridge\n",
        "from sklearn.linear_model import RidgeCV\n",
        "from sklearn.linear_model import Lasso\n",
        "from sklearn.linear_model import LassoCV\n",
        "from sklearn.tree import DecisionTreeRegressor\n",
        "from sklearn.ensemble import RandomForestRegressor\n",
        "from sklearn.neighbors import KNeighborsRegressor\n",
        "from sklearn.model_selection import cross_val_score\n",
        "from sklearn.model_selection import GridSearchCV\n",
        "from sklearn.model_selection import LeaveOneOut\n",
        "from sklearn.model_selection import train_test_split\n",
        "from sklearn.decomposition import PCA\n",
        "from sklearn.metrics import mean_squared_error as mse # root mean squared error prefered\n"
      ]
    },
    {
      "cell_type": "code",
      "source": [
        "!pip install category_encoders"
      ],
      "metadata": {
        "colab": {
          "base_uri": "https://localhost:8080/"
        },
        "id": "luu1KgGh27kz",
        "outputId": "3c35a54d-7f72-48bb-ee51-0bcb49e3e238"
      },
      "execution_count": null,
      "outputs": [
        {
          "output_type": "stream",
          "name": "stdout",
          "text": [
            "Looking in indexes: https://pypi.org/simple, https://us-python.pkg.dev/colab-wheels/public/simple/\n",
            "Collecting category_encoders\n",
            "  Downloading category_encoders-2.5.0-py2.py3-none-any.whl (69 kB)\n",
            "\u001b[K     |████████████████████████████████| 69 kB 2.8 MB/s \n",
            "\u001b[?25hRequirement already satisfied: scikit-learn>=0.20.0 in /usr/local/lib/python3.7/dist-packages (from category_encoders) (1.0.2)\n",
            "Requirement already satisfied: patsy>=0.5.1 in /usr/local/lib/python3.7/dist-packages (from category_encoders) (0.5.2)\n",
            "Requirement already satisfied: numpy>=1.14.0 in /usr/local/lib/python3.7/dist-packages (from category_encoders) (1.21.6)\n",
            "Requirement already satisfied: pandas>=1.0.5 in /usr/local/lib/python3.7/dist-packages (from category_encoders) (1.3.5)\n",
            "Requirement already satisfied: statsmodels>=0.9.0 in /usr/local/lib/python3.7/dist-packages (from category_encoders) (0.10.2)\n",
            "Requirement already satisfied: scipy>=1.0.0 in /usr/local/lib/python3.7/dist-packages (from category_encoders) (1.4.1)\n",
            "Requirement already satisfied: pytz>=2017.3 in /usr/local/lib/python3.7/dist-packages (from pandas>=1.0.5->category_encoders) (2022.1)\n",
            "Requirement already satisfied: python-dateutil>=2.7.3 in /usr/local/lib/python3.7/dist-packages (from pandas>=1.0.5->category_encoders) (2.8.2)\n",
            "Requirement already satisfied: six in /usr/local/lib/python3.7/dist-packages (from patsy>=0.5.1->category_encoders) (1.15.0)\n",
            "Requirement already satisfied: joblib>=0.11 in /usr/local/lib/python3.7/dist-packages (from scikit-learn>=0.20.0->category_encoders) (1.1.0)\n",
            "Requirement already satisfied: threadpoolctl>=2.0.0 in /usr/local/lib/python3.7/dist-packages (from scikit-learn>=0.20.0->category_encoders) (3.1.0)\n",
            "Installing collected packages: category-encoders\n",
            "Successfully installed category-encoders-2.5.0\n"
          ]
        }
      ]
    },
    {
      "cell_type": "code",
      "source": [
        "from google.colab import files\n",
        "\n",
        "uploaded = files.upload()"
      ],
      "metadata": {
        "id": "UXavkOFP_nN8"
      },
      "execution_count": null,
      "outputs": []
    },
    {
      "cell_type": "code",
      "source": [
        "df_ukr = pd.read_csv('ukr_data.csv')"
      ],
      "metadata": {
        "id": "A7GVdNgc53e6"
      },
      "execution_count": null,
      "outputs": []
    },
    {
      "cell_type": "code",
      "source": [
        "df_ukr.drop(columns=['Unnamed: 0'], inplace=True)"
      ],
      "metadata": {
        "id": "x-eLkbCQBtDK"
      },
      "execution_count": null,
      "outputs": []
    },
    {
      "cell_type": "code",
      "source": [
        "df_ukr.info()"
      ],
      "metadata": {
        "colab": {
          "base_uri": "https://localhost:8080/"
        },
        "id": "1qils8TXewCy",
        "outputId": "a5f1edd0-fa11-40f7-8d84-4b2ebefb79d8"
      },
      "execution_count": null,
      "outputs": [
        {
          "output_type": "stream",
          "name": "stdout",
          "text": [
            "<class 'pandas.core.frame.DataFrame'>\n",
            "RangeIndex: 140 entries, 0 to 139\n",
            "Data columns (total 16 columns):\n",
            " #   Column                 Non-Null Count  Dtype  \n",
            "---  ------                 --------------  -----  \n",
            " 0   Commodity              140 non-null    object \n",
            " 1   Year                   140 non-null    int64  \n",
            " 2   Country                140 non-null    object \n",
            " 3   Area Harvested         140 non-null    int64  \n",
            " 4   Beginning Stocks       140 non-null    int64  \n",
            " 5   Production             140 non-null    int64  \n",
            " 6   Imports                140 non-null    int64  \n",
            " 7   Total Supply           140 non-null    int64  \n",
            " 8   Exports                140 non-null    int64  \n",
            " 9   Feed Dom. Consumption  140 non-null    int64  \n",
            " 10  Fsi Consumption        140 non-null    int64  \n",
            " 11  Domestic Consumption   140 non-null    int64  \n",
            " 12  Ending Stocks          140 non-null    int64  \n",
            " 13  Yield                  140 non-null    float64\n",
            " 14  Population             140 non-null    float64\n",
            " 15  Rural Population       140 non-null    float64\n",
            "dtypes: float64(3), int64(11), object(2)\n",
            "memory usage: 17.6+ KB\n"
          ]
        }
      ]
    },
    {
      "cell_type": "code",
      "source": [
        "def adj_Rsquared(rsq, n, k): # takes in R-squared val (rsq) and return the adjusted R squared val (n: # samples, k: # independent vars)\n",
        "  adj_rsq = 1 - ((1 - rsq)*(n-1)/(n-k-1))\n",
        "  return adj_rsq"
      ],
      "metadata": {
        "id": "1OWIxCl9ed5v"
      },
      "execution_count": null,
      "outputs": []
    },
    {
      "cell_type": "code",
      "source": [
        "df_ukr.columns"
      ],
      "metadata": {
        "colab": {
          "base_uri": "https://localhost:8080/"
        },
        "id": "NjjjiEx_HJv9",
        "outputId": "ac1ce5c7-a8dc-45ee-d3e3-a283dd78a9ac"
      },
      "execution_count": null,
      "outputs": [
        {
          "output_type": "execute_result",
          "data": {
            "text/plain": [
              "Index(['Commodity', 'Year', 'Country', 'Area Harvested', 'Beginning Stocks',\n",
              "       'Production', 'Imports', 'Total Supply', 'Exports',\n",
              "       'Feed Dom. Consumption', 'Fsi Consumption', 'Domestic Consumption',\n",
              "       'Ending Stocks', 'Yield', 'Population', 'Rural Population'],\n",
              "      dtype='object')"
            ]
          },
          "metadata": {},
          "execution_count": 9
        }
      ]
    },
    {
      "cell_type": "code",
      "source": [
        "# Now we look to drop the columns to further reduce the dimensionality of the data since each dataset has 140 samples each.\n",
        "\n",
        "df_ukr.drop(columns=['Country'], inplace=True)"
      ],
      "metadata": {
        "id": "eHYw8l_yohaY"
      },
      "execution_count": null,
      "outputs": []
    },
    {
      "cell_type": "code",
      "source": [
        "# Feature aggregation: Domestic Consumption = Feed Dom. Consumption + Fsi Consumption. So can drop the latter two columns\n",
        "\n",
        "df_ukr.drop(columns=['Feed Dom. Consumption', 'Fsi Consumption'], inplace=True)"
      ],
      "metadata": {
        "id": "RXIQPzPVpoTZ"
      },
      "execution_count": null,
      "outputs": []
    },
    {
      "cell_type": "code",
      "source": [
        "# Next we use the knowledge of the data to drop more columns.\n",
        "# Total Supply = Production + Imports + Beginning Stocks.\n",
        "# We don't need both total supply and production (0.99 correlation) in the data set. Can drop Total Supply.\n",
        "\n",
        "df_ukr.drop(columns=['Total Supply'], inplace=True)"
      ],
      "metadata": {
        "id": "Tg2RN_l6s3PW"
      },
      "execution_count": null,
      "outputs": []
    },
    {
      "cell_type": "code",
      "source": [
        "df_ukr.head()"
      ],
      "metadata": {
        "colab": {
          "base_uri": "https://localhost:8080/",
          "height": 250
        },
        "id": "sWGNtlISw9eG",
        "outputId": "6a45ed4b-8663-44b6-d53c-416931283a41"
      },
      "execution_count": null,
      "outputs": [
        {
          "output_type": "execute_result",
          "data": {
            "text/plain": [
              "  Commodity  Year  Area Harvested  Beginning Stocks  Production  Imports  \\\n",
              "0    Barley  1987            4077               900       12190      230   \n",
              "1    Barley  1988            3658               848        8751     1160   \n",
              "2    Barley  1989            3234               836       10090      550   \n",
              "3    Barley  1990            2729               709        9168      500   \n",
              "4    Barley  1991            3190               720        8047      435   \n",
              "\n",
              "   Exports  Domestic Consumption  Ending Stocks  Yield  Population  \\\n",
              "0     1655                 10817            848   2.99  51293000.0   \n",
              "1     1345                  8578            836   2.39  51521000.0   \n",
              "2     1090                  9677            709   3.12  51773000.0   \n",
              "3      350                  9307            720   3.36  51891400.0   \n",
              "4      275                  8306            621   2.52  52000500.0   \n",
              "\n",
              "   Rural Population  \n",
              "0            34.170  \n",
              "1            33.601  \n",
              "2            33.282  \n",
              "3            33.243  \n",
              "4            33.204  "
            ],
            "text/html": [
              "\n",
              "  <div id=\"df-03276bc2-689b-432d-b444-f081235fbf6a\">\n",
              "    <div class=\"colab-df-container\">\n",
              "      <div>\n",
              "<style scoped>\n",
              "    .dataframe tbody tr th:only-of-type {\n",
              "        vertical-align: middle;\n",
              "    }\n",
              "\n",
              "    .dataframe tbody tr th {\n",
              "        vertical-align: top;\n",
              "    }\n",
              "\n",
              "    .dataframe thead th {\n",
              "        text-align: right;\n",
              "    }\n",
              "</style>\n",
              "<table border=\"1\" class=\"dataframe\">\n",
              "  <thead>\n",
              "    <tr style=\"text-align: right;\">\n",
              "      <th></th>\n",
              "      <th>Commodity</th>\n",
              "      <th>Year</th>\n",
              "      <th>Area Harvested</th>\n",
              "      <th>Beginning Stocks</th>\n",
              "      <th>Production</th>\n",
              "      <th>Imports</th>\n",
              "      <th>Exports</th>\n",
              "      <th>Domestic Consumption</th>\n",
              "      <th>Ending Stocks</th>\n",
              "      <th>Yield</th>\n",
              "      <th>Population</th>\n",
              "      <th>Rural Population</th>\n",
              "    </tr>\n",
              "  </thead>\n",
              "  <tbody>\n",
              "    <tr>\n",
              "      <th>0</th>\n",
              "      <td>Barley</td>\n",
              "      <td>1987</td>\n",
              "      <td>4077</td>\n",
              "      <td>900</td>\n",
              "      <td>12190</td>\n",
              "      <td>230</td>\n",
              "      <td>1655</td>\n",
              "      <td>10817</td>\n",
              "      <td>848</td>\n",
              "      <td>2.99</td>\n",
              "      <td>51293000.0</td>\n",
              "      <td>34.170</td>\n",
              "    </tr>\n",
              "    <tr>\n",
              "      <th>1</th>\n",
              "      <td>Barley</td>\n",
              "      <td>1988</td>\n",
              "      <td>3658</td>\n",
              "      <td>848</td>\n",
              "      <td>8751</td>\n",
              "      <td>1160</td>\n",
              "      <td>1345</td>\n",
              "      <td>8578</td>\n",
              "      <td>836</td>\n",
              "      <td>2.39</td>\n",
              "      <td>51521000.0</td>\n",
              "      <td>33.601</td>\n",
              "    </tr>\n",
              "    <tr>\n",
              "      <th>2</th>\n",
              "      <td>Barley</td>\n",
              "      <td>1989</td>\n",
              "      <td>3234</td>\n",
              "      <td>836</td>\n",
              "      <td>10090</td>\n",
              "      <td>550</td>\n",
              "      <td>1090</td>\n",
              "      <td>9677</td>\n",
              "      <td>709</td>\n",
              "      <td>3.12</td>\n",
              "      <td>51773000.0</td>\n",
              "      <td>33.282</td>\n",
              "    </tr>\n",
              "    <tr>\n",
              "      <th>3</th>\n",
              "      <td>Barley</td>\n",
              "      <td>1990</td>\n",
              "      <td>2729</td>\n",
              "      <td>709</td>\n",
              "      <td>9168</td>\n",
              "      <td>500</td>\n",
              "      <td>350</td>\n",
              "      <td>9307</td>\n",
              "      <td>720</td>\n",
              "      <td>3.36</td>\n",
              "      <td>51891400.0</td>\n",
              "      <td>33.243</td>\n",
              "    </tr>\n",
              "    <tr>\n",
              "      <th>4</th>\n",
              "      <td>Barley</td>\n",
              "      <td>1991</td>\n",
              "      <td>3190</td>\n",
              "      <td>720</td>\n",
              "      <td>8047</td>\n",
              "      <td>435</td>\n",
              "      <td>275</td>\n",
              "      <td>8306</td>\n",
              "      <td>621</td>\n",
              "      <td>2.52</td>\n",
              "      <td>52000500.0</td>\n",
              "      <td>33.204</td>\n",
              "    </tr>\n",
              "  </tbody>\n",
              "</table>\n",
              "</div>\n",
              "      <button class=\"colab-df-convert\" onclick=\"convertToInteractive('df-03276bc2-689b-432d-b444-f081235fbf6a')\"\n",
              "              title=\"Convert this dataframe to an interactive table.\"\n",
              "              style=\"display:none;\">\n",
              "        \n",
              "  <svg xmlns=\"http://www.w3.org/2000/svg\" height=\"24px\"viewBox=\"0 0 24 24\"\n",
              "       width=\"24px\">\n",
              "    <path d=\"M0 0h24v24H0V0z\" fill=\"none\"/>\n",
              "    <path d=\"M18.56 5.44l.94 2.06.94-2.06 2.06-.94-2.06-.94-.94-2.06-.94 2.06-2.06.94zm-11 1L8.5 8.5l.94-2.06 2.06-.94-2.06-.94L8.5 2.5l-.94 2.06-2.06.94zm10 10l.94 2.06.94-2.06 2.06-.94-2.06-.94-.94-2.06-.94 2.06-2.06.94z\"/><path d=\"M17.41 7.96l-1.37-1.37c-.4-.4-.92-.59-1.43-.59-.52 0-1.04.2-1.43.59L10.3 9.45l-7.72 7.72c-.78.78-.78 2.05 0 2.83L4 21.41c.39.39.9.59 1.41.59.51 0 1.02-.2 1.41-.59l7.78-7.78 2.81-2.81c.8-.78.8-2.07 0-2.86zM5.41 20L4 18.59l7.72-7.72 1.47 1.35L5.41 20z\"/>\n",
              "  </svg>\n",
              "      </button>\n",
              "      \n",
              "  <style>\n",
              "    .colab-df-container {\n",
              "      display:flex;\n",
              "      flex-wrap:wrap;\n",
              "      gap: 12px;\n",
              "    }\n",
              "\n",
              "    .colab-df-convert {\n",
              "      background-color: #E8F0FE;\n",
              "      border: none;\n",
              "      border-radius: 50%;\n",
              "      cursor: pointer;\n",
              "      display: none;\n",
              "      fill: #1967D2;\n",
              "      height: 32px;\n",
              "      padding: 0 0 0 0;\n",
              "      width: 32px;\n",
              "    }\n",
              "\n",
              "    .colab-df-convert:hover {\n",
              "      background-color: #E2EBFA;\n",
              "      box-shadow: 0px 1px 2px rgba(60, 64, 67, 0.3), 0px 1px 3px 1px rgba(60, 64, 67, 0.15);\n",
              "      fill: #174EA6;\n",
              "    }\n",
              "\n",
              "    [theme=dark] .colab-df-convert {\n",
              "      background-color: #3B4455;\n",
              "      fill: #D2E3FC;\n",
              "    }\n",
              "\n",
              "    [theme=dark] .colab-df-convert:hover {\n",
              "      background-color: #434B5C;\n",
              "      box-shadow: 0px 1px 3px 1px rgba(0, 0, 0, 0.15);\n",
              "      filter: drop-shadow(0px 1px 2px rgba(0, 0, 0, 0.3));\n",
              "      fill: #FFFFFF;\n",
              "    }\n",
              "  </style>\n",
              "\n",
              "      <script>\n",
              "        const buttonEl =\n",
              "          document.querySelector('#df-03276bc2-689b-432d-b444-f081235fbf6a button.colab-df-convert');\n",
              "        buttonEl.style.display =\n",
              "          google.colab.kernel.accessAllowed ? 'block' : 'none';\n",
              "\n",
              "        async function convertToInteractive(key) {\n",
              "          const element = document.querySelector('#df-03276bc2-689b-432d-b444-f081235fbf6a');\n",
              "          const dataTable =\n",
              "            await google.colab.kernel.invokeFunction('convertToInteractive',\n",
              "                                                     [key], {});\n",
              "          if (!dataTable) return;\n",
              "\n",
              "          const docLinkHtml = 'Like what you see? Visit the ' +\n",
              "            '<a target=\"_blank\" href=https://colab.research.google.com/notebooks/data_table.ipynb>data table notebook</a>'\n",
              "            + ' to learn more about interactive tables.';\n",
              "          element.innerHTML = '';\n",
              "          dataTable['output_type'] = 'display_data';\n",
              "          await google.colab.output.renderOutput(dataTable, element);\n",
              "          const docLink = document.createElement('div');\n",
              "          docLink.innerHTML = docLinkHtml;\n",
              "          element.appendChild(docLink);\n",
              "        }\n",
              "      </script>\n",
              "    </div>\n",
              "  </div>\n",
              "  "
            ]
          },
          "metadata": {},
          "execution_count": 13
        }
      ]
    },
    {
      "cell_type": "code",
      "source": [
        "# We will drop the year column as it won't contribute much to the ML models\n",
        "\n",
        "df_ukr.drop(columns=['Year'], inplace=True)"
      ],
      "metadata": {
        "id": "jdUR3N9eWbLE"
      },
      "execution_count": null,
      "outputs": []
    },
    {
      "cell_type": "code",
      "source": [
        "# (BIG CHANGE HERE) Dummy/one-hot encoding could increase the dimensionality, will try an alternative called Leave-one-out (target) encoding\n",
        "from category_encoders import LeaveOneOutEncoder\n",
        "\n",
        "encoder = LeaveOneOutEncoder(cols=['Commodity'], return_df=True)\n",
        "X_ukr = df_ukr.drop(columns=['Production'])\n",
        "y_ukr = df_ukr['Production']\n",
        "\n",
        "X_enc_ukr = encoder.fit_transform(X_ukr, y_ukr)\n",
        "\n",
        "X_enc_ukr.head()"
      ],
      "metadata": {
        "colab": {
          "base_uri": "https://localhost:8080/",
          "height": 262
        },
        "id": "svSVrtXvzFuo",
        "outputId": "1d47a1eb-891c-4f17-e29f-8b9f5342a928"
      },
      "execution_count": null,
      "outputs": [
        {
          "output_type": "stream",
          "name": "stderr",
          "text": [
            "/usr/local/lib/python3.7/dist-packages/statsmodels/tools/_testing.py:19: FutureWarning: pandas.util.testing is deprecated. Use the functions in the public API at pandas.testing instead.\n",
            "  import pandas.util.testing as tm\n"
          ]
        },
        {
          "output_type": "execute_result",
          "data": {
            "text/plain": [
              "     Commodity  Area Harvested  Beginning Stocks  Imports  Exports  \\\n",
              "0  9094.441176            4077               900      230     1655   \n",
              "1  9195.588235            3658               848     1160     1345   \n",
              "2  9156.205882            3234               836      550     1090   \n",
              "3  9183.323529            2729               709      500      350   \n",
              "4  9216.294118            3190               720      435      275   \n",
              "\n",
              "   Domestic Consumption  Ending Stocks  Yield  Population  Rural Population  \n",
              "0                 10817            848   2.99  51293000.0            34.170  \n",
              "1                  8578            836   2.39  51521000.0            33.601  \n",
              "2                  9677            709   3.12  51773000.0            33.282  \n",
              "3                  9307            720   3.36  51891400.0            33.243  \n",
              "4                  8306            621   2.52  52000500.0            33.204  "
            ],
            "text/html": [
              "\n",
              "  <div id=\"df-01a83cc3-2800-40e1-bb9c-cfcbb1374e26\">\n",
              "    <div class=\"colab-df-container\">\n",
              "      <div>\n",
              "<style scoped>\n",
              "    .dataframe tbody tr th:only-of-type {\n",
              "        vertical-align: middle;\n",
              "    }\n",
              "\n",
              "    .dataframe tbody tr th {\n",
              "        vertical-align: top;\n",
              "    }\n",
              "\n",
              "    .dataframe thead th {\n",
              "        text-align: right;\n",
              "    }\n",
              "</style>\n",
              "<table border=\"1\" class=\"dataframe\">\n",
              "  <thead>\n",
              "    <tr style=\"text-align: right;\">\n",
              "      <th></th>\n",
              "      <th>Commodity</th>\n",
              "      <th>Area Harvested</th>\n",
              "      <th>Beginning Stocks</th>\n",
              "      <th>Imports</th>\n",
              "      <th>Exports</th>\n",
              "      <th>Domestic Consumption</th>\n",
              "      <th>Ending Stocks</th>\n",
              "      <th>Yield</th>\n",
              "      <th>Population</th>\n",
              "      <th>Rural Population</th>\n",
              "    </tr>\n",
              "  </thead>\n",
              "  <tbody>\n",
              "    <tr>\n",
              "      <th>0</th>\n",
              "      <td>9094.441176</td>\n",
              "      <td>4077</td>\n",
              "      <td>900</td>\n",
              "      <td>230</td>\n",
              "      <td>1655</td>\n",
              "      <td>10817</td>\n",
              "      <td>848</td>\n",
              "      <td>2.99</td>\n",
              "      <td>51293000.0</td>\n",
              "      <td>34.170</td>\n",
              "    </tr>\n",
              "    <tr>\n",
              "      <th>1</th>\n",
              "      <td>9195.588235</td>\n",
              "      <td>3658</td>\n",
              "      <td>848</td>\n",
              "      <td>1160</td>\n",
              "      <td>1345</td>\n",
              "      <td>8578</td>\n",
              "      <td>836</td>\n",
              "      <td>2.39</td>\n",
              "      <td>51521000.0</td>\n",
              "      <td>33.601</td>\n",
              "    </tr>\n",
              "    <tr>\n",
              "      <th>2</th>\n",
              "      <td>9156.205882</td>\n",
              "      <td>3234</td>\n",
              "      <td>836</td>\n",
              "      <td>550</td>\n",
              "      <td>1090</td>\n",
              "      <td>9677</td>\n",
              "      <td>709</td>\n",
              "      <td>3.12</td>\n",
              "      <td>51773000.0</td>\n",
              "      <td>33.282</td>\n",
              "    </tr>\n",
              "    <tr>\n",
              "      <th>3</th>\n",
              "      <td>9183.323529</td>\n",
              "      <td>2729</td>\n",
              "      <td>709</td>\n",
              "      <td>500</td>\n",
              "      <td>350</td>\n",
              "      <td>9307</td>\n",
              "      <td>720</td>\n",
              "      <td>3.36</td>\n",
              "      <td>51891400.0</td>\n",
              "      <td>33.243</td>\n",
              "    </tr>\n",
              "    <tr>\n",
              "      <th>4</th>\n",
              "      <td>9216.294118</td>\n",
              "      <td>3190</td>\n",
              "      <td>720</td>\n",
              "      <td>435</td>\n",
              "      <td>275</td>\n",
              "      <td>8306</td>\n",
              "      <td>621</td>\n",
              "      <td>2.52</td>\n",
              "      <td>52000500.0</td>\n",
              "      <td>33.204</td>\n",
              "    </tr>\n",
              "  </tbody>\n",
              "</table>\n",
              "</div>\n",
              "      <button class=\"colab-df-convert\" onclick=\"convertToInteractive('df-01a83cc3-2800-40e1-bb9c-cfcbb1374e26')\"\n",
              "              title=\"Convert this dataframe to an interactive table.\"\n",
              "              style=\"display:none;\">\n",
              "        \n",
              "  <svg xmlns=\"http://www.w3.org/2000/svg\" height=\"24px\"viewBox=\"0 0 24 24\"\n",
              "       width=\"24px\">\n",
              "    <path d=\"M0 0h24v24H0V0z\" fill=\"none\"/>\n",
              "    <path d=\"M18.56 5.44l.94 2.06.94-2.06 2.06-.94-2.06-.94-.94-2.06-.94 2.06-2.06.94zm-11 1L8.5 8.5l.94-2.06 2.06-.94-2.06-.94L8.5 2.5l-.94 2.06-2.06.94zm10 10l.94 2.06.94-2.06 2.06-.94-2.06-.94-.94-2.06-.94 2.06-2.06.94z\"/><path d=\"M17.41 7.96l-1.37-1.37c-.4-.4-.92-.59-1.43-.59-.52 0-1.04.2-1.43.59L10.3 9.45l-7.72 7.72c-.78.78-.78 2.05 0 2.83L4 21.41c.39.39.9.59 1.41.59.51 0 1.02-.2 1.41-.59l7.78-7.78 2.81-2.81c.8-.78.8-2.07 0-2.86zM5.41 20L4 18.59l7.72-7.72 1.47 1.35L5.41 20z\"/>\n",
              "  </svg>\n",
              "      </button>\n",
              "      \n",
              "  <style>\n",
              "    .colab-df-container {\n",
              "      display:flex;\n",
              "      flex-wrap:wrap;\n",
              "      gap: 12px;\n",
              "    }\n",
              "\n",
              "    .colab-df-convert {\n",
              "      background-color: #E8F0FE;\n",
              "      border: none;\n",
              "      border-radius: 50%;\n",
              "      cursor: pointer;\n",
              "      display: none;\n",
              "      fill: #1967D2;\n",
              "      height: 32px;\n",
              "      padding: 0 0 0 0;\n",
              "      width: 32px;\n",
              "    }\n",
              "\n",
              "    .colab-df-convert:hover {\n",
              "      background-color: #E2EBFA;\n",
              "      box-shadow: 0px 1px 2px rgba(60, 64, 67, 0.3), 0px 1px 3px 1px rgba(60, 64, 67, 0.15);\n",
              "      fill: #174EA6;\n",
              "    }\n",
              "\n",
              "    [theme=dark] .colab-df-convert {\n",
              "      background-color: #3B4455;\n",
              "      fill: #D2E3FC;\n",
              "    }\n",
              "\n",
              "    [theme=dark] .colab-df-convert:hover {\n",
              "      background-color: #434B5C;\n",
              "      box-shadow: 0px 1px 3px 1px rgba(0, 0, 0, 0.15);\n",
              "      filter: drop-shadow(0px 1px 2px rgba(0, 0, 0, 0.3));\n",
              "      fill: #FFFFFF;\n",
              "    }\n",
              "  </style>\n",
              "\n",
              "      <script>\n",
              "        const buttonEl =\n",
              "          document.querySelector('#df-01a83cc3-2800-40e1-bb9c-cfcbb1374e26 button.colab-df-convert');\n",
              "        buttonEl.style.display =\n",
              "          google.colab.kernel.accessAllowed ? 'block' : 'none';\n",
              "\n",
              "        async function convertToInteractive(key) {\n",
              "          const element = document.querySelector('#df-01a83cc3-2800-40e1-bb9c-cfcbb1374e26');\n",
              "          const dataTable =\n",
              "            await google.colab.kernel.invokeFunction('convertToInteractive',\n",
              "                                                     [key], {});\n",
              "          if (!dataTable) return;\n",
              "\n",
              "          const docLinkHtml = 'Like what you see? Visit the ' +\n",
              "            '<a target=\"_blank\" href=https://colab.research.google.com/notebooks/data_table.ipynb>data table notebook</a>'\n",
              "            + ' to learn more about interactive tables.';\n",
              "          element.innerHTML = '';\n",
              "          dataTable['output_type'] = 'display_data';\n",
              "          await google.colab.output.renderOutput(dataTable, element);\n",
              "          const docLink = document.createElement('div');\n",
              "          docLink.innerHTML = docLinkHtml;\n",
              "          element.appendChild(docLink);\n",
              "        }\n",
              "      </script>\n",
              "    </div>\n",
              "  </div>\n",
              "  "
            ]
          },
          "metadata": {},
          "execution_count": 15
        }
      ]
    },
    {
      "cell_type": "code",
      "source": [
        "# Since Beginning Stocks and Ending Stocks are just the same values shifted by one year, Don't need to include both.\n",
        "# Will keep Beginning Stocks as it makes more sense.\n",
        "\n",
        "X_enc_ukr.drop(columns=['Ending Stocks'], inplace=True)"
      ],
      "metadata": {
        "id": "pKARqh6Wzi0F"
      },
      "execution_count": null,
      "outputs": []
    },
    {
      "cell_type": "code",
      "source": [
        "df_ukr.corr()['Production'].abs().sort_values(ascending=False)"
      ],
      "metadata": {
        "colab": {
          "base_uri": "https://localhost:8080/"
        },
        "id": "RJSS6kGac2vu",
        "outputId": "48cc0389-b784-46e2-bb88-8791903f117f"
      },
      "execution_count": null,
      "outputs": [
        {
          "output_type": "execute_result",
          "data": {
            "text/plain": [
              "Production              1.000000\n",
              "Area Harvested          0.831971\n",
              "Exports                 0.805837\n",
              "Yield                   0.780656\n",
              "Domestic Consumption    0.692079\n",
              "Ending Stocks           0.660555\n",
              "Beginning Stocks        0.515407\n",
              "Rural Population        0.390395\n",
              "Population              0.343611\n",
              "Imports                 0.078349\n",
              "Name: Production, dtype: float64"
            ]
          },
          "metadata": {},
          "execution_count": 17
        }
      ]
    },
    {
      "cell_type": "code",
      "source": [
        "X_enc_ukr.columns"
      ],
      "metadata": {
        "colab": {
          "base_uri": "https://localhost:8080/"
        },
        "id": "_w7hWMhtqv-W",
        "outputId": "886268b5-6238-4af3-850e-d9478b9953f9"
      },
      "execution_count": null,
      "outputs": [
        {
          "output_type": "execute_result",
          "data": {
            "text/plain": [
              "Index(['Commodity', 'Area Harvested', 'Beginning Stocks', 'Imports', 'Exports',\n",
              "       'Domestic Consumption', 'Yield', 'Population', 'Rural Population'],\n",
              "      dtype='object')"
            ]
          },
          "metadata": {},
          "execution_count": 18
        }
      ]
    },
    {
      "cell_type": "code",
      "source": [
        "# Imports only have 0.078 correlation with Production for Ukraine so Can drop Imports.\n",
        "X_enc_ukr.drop(columns=['Imports'], inplace=True)"
      ],
      "metadata": {
        "id": "D7wG4ho734Pc"
      },
      "execution_count": null,
      "outputs": []
    },
    {
      "cell_type": "code",
      "source": [
        "# Newest Edit: Dropping Population column and only keeping the percentage of rural population since the correlation betweeen the two is 0.95.\n",
        "\n",
        "X_enc_ukr.drop(columns=['Population'], inplace=True)"
      ],
      "metadata": {
        "id": "yBC4U76NVB9n"
      },
      "execution_count": null,
      "outputs": []
    },
    {
      "cell_type": "code",
      "source": [
        "\n",
        "# Newest Edit: Doing the train_test split with 1000 different random_states and getting the average of \n",
        "# train and test errors for each model.\n",
        "\n",
        "Xtrains = []\n",
        "Xtests = []\n",
        "Xtrains_pca = []\n",
        "Xtests_pca = []\n",
        "ytrains = []\n",
        "ytests = []\n",
        "\n",
        "pca = PCA(n_components=4)\n",
        "X_pca = pca.fit_transform(X_enc_ukr)\n",
        "\n",
        "y = np.array(y_ukr) # changing from series to array\n",
        "\n",
        "for i in range(1000):\n",
        "  X_train, X_test, y_train, y_test = train_test_split(X_enc_ukr, y, test_size=0.2, random_state=i)\n",
        "  X_train_pca, X_test_pca, y_train_pca, y_test_pca = train_test_split(X_pca, y, test_size=0.2, random_state=i)\n",
        "  Xtrains.append(X_train)\n",
        "  Xtests.append(X_test)\n",
        "  Xtrains_pca.append(X_train_pca)\n",
        "  Xtests_pca.append(X_test_pca)\n",
        "  ytrains.append(y_train)\n",
        "  ytests.append(y_test)\n",
        "\n",
        "\n"
      ],
      "metadata": {
        "id": "52jnxO0oXggC"
      },
      "execution_count": null,
      "outputs": []
    },
    {
      "cell_type": "code",
      "source": [
        "# Writing a function that takes in a model and run it 1000 times for 1000 different train-test splits of the data.\n",
        "\n",
        "def run_model(model, X_trains=Xtrains, X_tests=Xtests, y_trains=ytrains, y_tests=ytests, iter=1000, get_r2=False):\n",
        "  train_errs, test_errs = [], []\n",
        "  results = {} \n",
        "  if get_r2:\n",
        "    train_r2_scores = []\n",
        "    test_r2_scores = []\n",
        "  for i in range(iter):\n",
        "    model.fit(X_trains[i], y_trains[i])\n",
        "    ypred_train = model.predict(X_trains[i])\n",
        "    ypred_test = model.predict(X_tests[i])\n",
        "    rmse_train = np.sqrt(mse(y_trains[i], ypred_train)) # Root-mean square Training Error\n",
        "    rmse_test = np.sqrt(mse(y_tests[i], ypred_test)) # Root-mean square Testing Error\n",
        "    train_errs.append(rmse_train)\n",
        "    test_errs.append(rmse_test)\n",
        "    if get_r2:\n",
        "      train_r2 = r2_score(y_trains[i], ypred_train)\n",
        "      train_adj_r2 = adj_Rsquared(train_r2, X_trains[i].shape[0], X_trains[i].shape[1])\n",
        "      train_r2_scores.append(train_adj_r2)\n",
        "      test_r2 = r2_score(y_tests[i], ypred_test)\n",
        "      test_adj_r2 = adj_Rsquared(test_r2, X_tests[i].shape[0], X_tests[i].shape[1])\n",
        "      test_r2_scores.append(test_adj_r2)\n",
        "  results['Train Error'] = np.mean(train_errs)\n",
        "  results['Test Error'] = np.mean(test_errs)\n",
        "  if get_r2:\n",
        "    results['Train R2 Score'] = np.mean(train_r2_scores)\n",
        "    results['Test R2 Score'] = np.mean(test_r2_scores)\n",
        "  return results\n",
        "\n"
      ],
      "metadata": {
        "id": "5SqwRlUhtIxe"
      },
      "execution_count": null,
      "outputs": []
    },
    {
      "cell_type": "code",
      "source": [
        "# Linear Regression : baseline model\n",
        "\n",
        "lm = LinearRegression()\n",
        "res = run_model(lm, get_r2=True)\n",
        "print(res)"
      ],
      "metadata": {
        "colab": {
          "base_uri": "https://localhost:8080/"
        },
        "id": "z2uBlJC21-9c",
        "outputId": "8ef268c1-6806-412a-e4f0-1a489ef5f14e"
      },
      "execution_count": null,
      "outputs": [
        {
          "output_type": "stream",
          "name": "stdout",
          "text": [
            "{'Train Error': 948.4801917684855, 'Test Error': 1030.8388967658643, 'Train R2 Score': 0.9889972489826988, 'Test R2 Score': 0.9820616602091466}\n"
          ]
        }
      ]
    },
    {
      "cell_type": "code",
      "source": [
        "# Finding the optimal alpha value for ridge regression model through LOOCV\n",
        "alpha_range = np.arange(1, 10, 0.01)\n",
        "ridgeCV = RidgeCV(alphas=alpha_range) # cv parameter by default is LOOCV\n",
        "ridgeCV.fit(X_enc_ukr, y) # Cross Validatio search of the alpha value is performed on the entire data set and NOT on a training set because there are 1000 different training sets to choose from\n",
        "print(ridgeCV.alpha_) # 6.609999999999\n"
      ],
      "metadata": {
        "id": "uKYIF8y9IyHj",
        "colab": {
          "base_uri": "https://localhost:8080/"
        },
        "outputId": "d99f157a-7876-4469-8fce-1e087e1d2b72"
      },
      "execution_count": null,
      "outputs": [
        {
          "output_type": "stream",
          "name": "stdout",
          "text": [
            "6.610000000000005\n"
          ]
        }
      ]
    },
    {
      "cell_type": "code",
      "source": [
        "# Ridge Regression\n",
        "\n",
        "ridge = Ridge(alpha=6.61) # setting alpha=1.0 for now, Will find alpha value again\n",
        "res_ridge = run_model(ridge, get_r2=True)\n",
        "print(res_ridge)"
      ],
      "metadata": {
        "colab": {
          "base_uri": "https://localhost:8080/"
        },
        "id": "Tp87JeAn28oz",
        "outputId": "b2ee19fc-c278-4ed1-d289-3da250bba12a"
      },
      "execution_count": null,
      "outputs": [
        {
          "output_type": "stream",
          "name": "stdout",
          "text": [
            "{'Train Error': 948.8882581122508, 'Test Error': 1030.0537275931033, 'Train R2 Score': 0.9889878418392044, 'Test R2 Score': 0.9820982663328809}\n"
          ]
        }
      ]
    },
    {
      "cell_type": "code",
      "source": [
        "# Finding the optimal alpha value for lasso regression model through LOOCV\n",
        "\n",
        "loo = LeaveOneOut() # an instance of LOOCV\n",
        "lassoCV = LassoCV(alphas=alpha_range, cv=loo) # Unlike Ridge LassoCV doesn't use LOOCV as the default CV\n",
        "\n",
        "lassoCV.fit(X_enc_ukr, y)\n",
        "print(lassoCV.alpha_) "
      ],
      "metadata": {
        "id": "lZ_UD19gn7XE",
        "colab": {
          "base_uri": "https://localhost:8080/"
        },
        "outputId": "44528cfa-ccba-44c6-d098-2ef40675038f"
      },
      "execution_count": null,
      "outputs": [
        {
          "output_type": "stream",
          "name": "stdout",
          "text": [
            "6.860000000000005\n"
          ]
        }
      ]
    },
    {
      "cell_type": "code",
      "source": [
        "# Lasso Regression\n",
        "\n",
        "lasso = Ridge(alpha=6.86)\n",
        "res_lasso = run_model(lasso, get_r2=True)\n",
        "print(res_lasso)"
      ],
      "metadata": {
        "colab": {
          "base_uri": "https://localhost:8080/"
        },
        "id": "Jkv0-2yB4OzC",
        "outputId": "6b02edb9-2be6-480b-edb2-f1a9bed7602c"
      },
      "execution_count": null,
      "outputs": [
        {
          "output_type": "stream",
          "name": "stdout",
          "text": [
            "{'Train Error': 948.9158161031321, 'Test Error': 1030.042314422415, 'Train R2 Score': 0.98898720642228, 'Test R2 Score': 0.9820989759210509}\n"
          ]
        }
      ]
    },
    {
      "cell_type": "code",
      "source": [
        "# Finding the optimal parameters for Decision Tree Regressor\n",
        "\n",
        "# Now, let's try hyperparameter tuning\n",
        "decTreeCV = DecisionTreeRegressor()\n",
        "path = decTreeCV.cost_complexity_pruning_path(X_enc_ukr, y)\n",
        "parameters={# \"splitter\":[\"best\",\"random\"],\n",
        "            \"max_depth\" : list(range(3, 15)),\n",
        "           #\"min_samples_leaf\":[1,2,3,4,5,6,7,8,9,10],\n",
        "           #\"min_weight_fraction_leaf\":[0.1,0.2,0.3,0.4,0.5,0.6,0.7,0.8,0.9],\n",
        "           #\"max_features\":[\"auto\",\"log2\",\"sqrt\",None],\n",
        "           #\"max_leaf_nodes\":[None,10,20,30,40,50,60,70,80,90],\n",
        "            \"ccp_alpha\": path[\"ccp_alphas\"]}\n",
        "\n",
        "loo = LeaveOneOut()\n",
        "gs = GridSearchCV(decTreeCV, param_grid=parameters, cv=loo, scoring='neg_mean_squared_error', n_jobs=-1) # searching for the best parameters\n",
        "gs.fit(X_enc_ukr, y)\n",
        "\n",
        "print(gs.best_score_)\n",
        "print(gs.best_params_)\n",
        "\n",
        "# print(gs.best_params_) # {'ccp_alpha': 1572.8036734686366, 'max_depth': 14}\n"
      ],
      "metadata": {
        "id": "8zhv2BWg7JvX",
        "colab": {
          "base_uri": "https://localhost:8080/"
        },
        "outputId": "5f967571-374c-4a16-9e9c-330589340eea"
      },
      "execution_count": null,
      "outputs": [
        {
          "output_type": "stream",
          "name": "stdout",
          "text": [
            "-2780099.187515012\n",
            "{'ccp_alpha': 1572.8036734686366, 'max_depth': 14}\n"
          ]
        }
      ]
    },
    {
      "cell_type": "code",
      "source": [
        "# Decision Tree Regression\n",
        "\n",
        "\n",
        "decTree = DecisionTreeRegressor(ccp_alpha=0.8, max_depth=11) # default parameters for now\n",
        "res_decTree = run_model(decTree)\n",
        "\n",
        "print(res_decTree) # bench mark to improve upon: {'Train Error': 0.0, 'Test Error': 2345.6259226112484}\n",
        "\n",
        "# after cv: {'Train Error': 8.523315607000674, 'Test Error': 2327.817099561585}"
      ],
      "metadata": {
        "colab": {
          "base_uri": "https://localhost:8080/"
        },
        "id": "EtMbLe054qgR",
        "outputId": "bdea370d-4bb1-4903-f793-86331bb38531"
      },
      "execution_count": null,
      "outputs": [
        {
          "output_type": "stream",
          "name": "stdout",
          "text": [
            "{'Train Error': 8.523315607000674, 'Test Error': 2327.817099561585}\n"
          ]
        }
      ]
    },
    {
      "cell_type": "code",
      "source": [
        "decTree.feature_importances_"
      ],
      "metadata": {
        "colab": {
          "base_uri": "https://localhost:8080/"
        },
        "id": "6Zm5QBt6FtOz",
        "outputId": "715f8c30-630e-4632-89ee-d9b57b293791"
      },
      "execution_count": null,
      "outputs": [
        {
          "output_type": "execute_result",
          "data": {
            "text/plain": [
              "array([7.17256854e-02, 7.18469152e-01, 1.43352209e-03, 1.00943860e-02,\n",
              "       8.85819041e-03, 1.89095849e-01, 3.23214496e-04])"
            ]
          },
          "metadata": {},
          "execution_count": 54
        }
      ]
    },
    {
      "cell_type": "code",
      "source": [
        "# Random Forest Regression\n",
        "\n",
        "rf = RandomForestRegressor() # again default parameters for now but might change them soon\n",
        "res_rf = run_model(rf)\n",
        "\n",
        "print(res_rf)"
      ],
      "metadata": {
        "colab": {
          "base_uri": "https://localhost:8080/"
        },
        "id": "S0HcXcIQ5K_i",
        "outputId": "e151d4d3-16ad-4435-da85-1b90c82fa458"
      },
      "execution_count": null,
      "outputs": [
        {
          "output_type": "stream",
          "name": "stdout",
          "text": [
            "{'Train Error': 679.8884269452279, 'Test Error': 1699.9979935825118}\n"
          ]
        }
      ]
    },
    {
      "cell_type": "code",
      "source": [
        "# Sixth (and Final) model: kNN Regressor\n",
        "\n",
        "# will need to do two cross-validations: one for picking best 'k' and the other to get LOOCV error for knn regressor\n",
        "# BUT first let's fit knn with default k=5\n",
        "# knn = KNeighborsRegressor()\n",
        "# knn.fit(X_ukr, y)\n",
        "\n",
        "# loo = LeaveOneOut()\n",
        "\n",
        "# mse_score_knn = cross_val_score(knn, X_ukr, y, cv=loo, scoring='neg_mean_squared_error', n_jobs=-1)\n",
        "# mse_score_knn = [np.sqrt(abs(score)) for score in mse_score_knn]\n",
        "\n",
        "# print(f'Root Mean squared error for Random Forest Regressor with LOOCV: {np.mean(mse_score_knn)}')\n",
        "\n"
      ],
      "metadata": {
        "id": "b_ogTUV-U4j7"
      },
      "execution_count": null,
      "outputs": []
    },
    {
      "cell_type": "code",
      "source": [
        "# Finding the optimal k value for kNN regressor\n",
        "\n",
        "# first let's find the optimal 'k'\n",
        "kvals = list(range(3, 10))\n",
        "\n",
        "loo = LeaveOneOut()\n",
        "k_rmse = {} # this dict will contain the k value : corresponding rmse err\n",
        "for k in kvals:\n",
        "  knn_model = KNeighborsRegressor(n_neighbors=k)\n",
        "  rmse = cross_val_score(knn_model, X_enc_ukr, y, cv=loo, scoring='neg_mean_squared_error', n_jobs=-1)\n",
        "  rmse = [np.sqrt(abs(err)) for err in rmse]\n",
        "  k_rmse[k] = np.mean(rmse)\n",
        "\n",
        "print(k_rmse)"
      ],
      "metadata": {
        "id": "d9H2PbTGa4M3",
        "colab": {
          "base_uri": "https://localhost:8080/"
        },
        "outputId": "3f84fd92-701d-41a0-90e9-ffffbd0c9b99"
      },
      "execution_count": null,
      "outputs": [
        {
          "output_type": "stream",
          "name": "stdout",
          "text": [
            "{3: 1179.1666666666665, 4: 1190.130357142857, 5: 1319.5271428571427, 6: 1372.0726190476191, 7: 1442.2877551020406, 8: 1443.0464285714286, 9: 1434.5611111111111}\n"
          ]
        }
      ]
    },
    {
      "cell_type": "code",
      "source": [
        "# K-nearest Neighbors Regression\n",
        "\n",
        "knn = KNeighborsRegressor(n_neighbors=3)\n",
        "res_knn = run_model(knn)\n",
        "print(res_knn)\n",
        "\n"
      ],
      "metadata": {
        "colab": {
          "base_uri": "https://localhost:8080/"
        },
        "id": "VTT0hFtU5qg8",
        "outputId": "98e7c189-f6a2-4fbf-8382-fa096f5931c1"
      },
      "execution_count": null,
      "outputs": [
        {
          "output_type": "stream",
          "name": "stdout",
          "text": [
            "{'Train Error': 1424.6769450769032, 'Test Error': 2151.700137620109}\n"
          ]
        }
      ]
    }
  ]
}